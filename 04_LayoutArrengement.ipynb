{
 "cells": [
  {
   "cell_type": "code",
   "execution_count": 1,
   "metadata": {},
   "outputs": [
    {
     "ename": "SystemExit",
     "evalue": "0",
     "output_type": "error",
     "traceback": [
      "An exception has occurred, use %tb to see the full traceback.\n",
      "\u001b[1;31mSystemExit\u001b[0m\u001b[1;31m:\u001b[0m 0\n"
     ]
    },
    {
     "name": "stderr",
     "output_type": "stream",
     "text": [
      "C:\\Users\\PointM2001\\AppData\\Roaming\\Python\\Python311\\site-packages\\IPython\\core\\interactiveshell.py:3534: UserWarning: To exit: use 'exit', 'quit', or Ctrl-D.\n",
      "  warn(\"To exit: use 'exit', 'quit', or Ctrl-D.\", stacklevel=1)\n"
     ]
    }
   ],
   "source": [
    "# 创建一个垂直排列的自动更新的窗口\n",
    "\n",
    "import sys\n",
    "from PyQt5.QtCore import *\n",
    "from PyQt5.QtGui import *\n",
    "from PyQt5.QtWidgets import *\n",
    "\n",
    "\n",
    "def window():\n",
    "    app = QApplication(sys.argv)\n",
    "    win = QWidget()\n",
    "\n",
    "    b1 = QPushButton(\"雷军！\")\n",
    "    b2 = QPushButton(\"金凡！\")\n",
    "\n",
    "    vbox = QVBoxLayout()\n",
    "    vbox.addWidget(b1)\n",
    "    vbox.addStretch()\n",
    "    vbox.addWidget(b2)\n",
    "    win.setLayout(vbox)\n",
    "\n",
    "    win.setWindowTitle(\"你看到了吗？\")\n",
    "    win.show()\n",
    "    sys.exit(app.exec_())\n",
    "\n",
    "\n",
    "if __name__ == '__main__':\n",
    "    window()"
   ]
  },
  {
   "cell_type": "code",
   "execution_count": 3,
   "metadata": {},
   "outputs": [
    {
     "ename": "SystemExit",
     "evalue": "0",
     "output_type": "error",
     "traceback": [
      "An exception has occurred, use %tb to see the full traceback.\n",
      "\u001b[1;31mSystemExit\u001b[0m\u001b[1;31m:\u001b[0m 0\n"
     ]
    }
   ],
   "source": [
    "# 创建一个嵌套的垂直与水平的窗口\n",
    "\n",
    "import sys\n",
    "from PyQt5.QtCore import *\n",
    "from PyQt5.QtGui import *\n",
    "from PyQt5.QtWidgets import *\n",
    "\n",
    "\n",
    "def window():\n",
    "    app = QApplication(sys.argv)\n",
    "    win = QWidget()\n",
    "\n",
    "    b1 = QPushButton(\"小米\")\n",
    "    b2 = QPushButton(\"雷军\")\n",
    "\n",
    "    vbox = QVBoxLayout()\n",
    "    vbox.addWidget(b1)\n",
    "    vbox.addStretch()\n",
    "    vbox.addWidget(b2)#先把按钮1和2安排为垂直布局\n",
    "\n",
    "    hbox = QHBoxLayout()\n",
    "\n",
    "    b3 = QPushButton(\"MiUI\")\n",
    "    b4 = QPushButton(\"金凡\")\n",
    "    hbox.addWidget(b3)\n",
    "    hbox.addStretch()\n",
    "    hbox.addWidget(b4)#再把按钮3和4安排为水平布局\n",
    "\n",
    "    vbox.addStretch()\n",
    "    vbox.addLayout(hbox)\n",
    "    win.setLayout(vbox)#最后把水平布局和垂直布局用垂直布局联系到一起\n",
    "\n",
    "    win.setWindowTitle(\"开发板比稳定版稳定\")\n",
    "    win.show()\n",
    "    sys.exit(app.exec_())\n",
    "\n",
    "\n",
    "if __name__ == '__main__':\n",
    "    window()"
   ]
  }
 ],
 "metadata": {
  "kernelspec": {
   "display_name": "Python 3",
   "language": "python",
   "name": "python3"
  },
  "language_info": {
   "codemirror_mode": {
    "name": "ipython",
    "version": 3
   },
   "file_extension": ".py",
   "mimetype": "text/x-python",
   "name": "python",
   "nbconvert_exporter": "python",
   "pygments_lexer": "ipython3",
   "version": "3.11.4"
  }
 },
 "nbformat": 4,
 "nbformat_minor": 2
}
