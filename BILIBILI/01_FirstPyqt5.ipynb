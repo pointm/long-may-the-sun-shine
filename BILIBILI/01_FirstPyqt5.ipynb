{
 "cells": [
  {
   "cell_type": "code",
   "execution_count": 2,
   "metadata": {},
   "outputs": [],
   "source": [
    "import sys\n",
    "from PyQt5.QtWidgets import QApplication, QWidget"
   ]
  },
  {
   "cell_type": "code",
   "execution_count": 3,
   "metadata": {},
   "outputs": [],
   "source": [
    "if __name__ == \"__main__\":\n",
    "    # 传递当前的运行程序的列表给当前的对象，有且只有一个\n",
    "    app = QApplication(sys.argv)\n",
    "\n",
    "    firstwindow = QWidget()\n",
    "\n",
    "    # 设置窗口的标题\n",
    "    firstwindow.setWindowTitle(\"遥遥领先\")\n",
    "\n",
    "    # 展示窗口\n",
    "    firstwindow.show()\n",
    "\n",
    "    # 保持当前窗口刷新与挂起\n",
    "    app.exec_()\n",
    "    pass"
   ]
  }
 ],
 "metadata": {
  "kernelspec": {
   "display_name": "base",
   "language": "python",
   "name": "python3"
  },
  "language_info": {
   "codemirror_mode": {
    "name": "ipython",
    "version": 3
   },
   "file_extension": ".py",
   "mimetype": "text/x-python",
   "name": "python",
   "nbconvert_exporter": "python",
   "pygments_lexer": "ipython3",
   "version": "3.11.5"
  }
 },
 "nbformat": 4,
 "nbformat_minor": 2
}
