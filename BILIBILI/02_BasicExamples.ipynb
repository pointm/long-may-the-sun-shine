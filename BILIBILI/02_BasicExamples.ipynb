{
 "cells": [
  {
   "cell_type": "code",
   "execution_count": null,
   "metadata": {},
   "outputs": [],
   "source": [
    "import sys\n",
    "from PyQt5.QtWidgets import (\n",
    "    QApplication,\n",
    "    QWidget,\n",
    "    QPushButton,\n",
    "    QLabel,\n",
    "    QLineEdit,\n",
    "    QDesktopWidget,\n",
    ")"
   ]
  },
  {
   "cell_type": "code",
   "execution_count": null,
   "metadata": {},
   "outputs": [],
   "source": [
    "# 创建一个带按钮的窗口\n",
    "\n",
    "# 传递当前的运行程序的列表给当前的对象，有且只有一个\n",
    "app = QApplication(sys.argv)\n",
    "\n",
    "firstwindow = QWidget()\n",
    "\n",
    "# 设置窗口的标题\n",
    "firstwindow.setWindowTitle(\"遥遥领先\")\n",
    "# 创建一个带有标签的按钮\n",
    "button = QPushButton(\"大师之作\")\n",
    "# 将按钮当作窗口的子类，展示窗口等同于展示所有的子类\n",
    "button.setParent(firstwindow)"
   ]
  },
  {
   "cell_type": "code",
   "execution_count": null,
   "metadata": {},
   "outputs": [],
   "source": [
    "# 创建一个带有以下文字的标签，可以在创建子组件的时候就指定父对象\n",
    "label = QLabel(\"早上好啊，您吃了没？\", firstwindow)\n",
    "# 显示大小x,y,w,h\n",
    "label.setGeometry(20, 20, 300, 30)"
   ]
  },
  {
   "cell_type": "code",
   "execution_count": null,
   "metadata": {},
   "outputs": [],
   "source": [
    "# 创建输入框也是创建的时候就指定自己的父类对象，这样子展示的时候就是一同展示的\n",
    "edit = QLineEdit(firstwindow)\n",
    "edit.setPlaceholderText(\"请输入你的出生年月日\")\n",
    "edit.setGeometry(50, 80, 200, 30)"
   ]
  },
  {
   "cell_type": "code",
   "execution_count": null,
   "metadata": {},
   "outputs": [],
   "source": [
    "# 设置窗口大小，运用resize函数来进行设置\n",
    "firstwindow.resize(300, 300)"
   ]
  },
  {
   "cell_type": "code",
   "execution_count": null,
   "metadata": {
    "tags": []
   },
   "outputs": [],
   "source": [
    "# 将窗口移动到指定位置\n",
    "firstwindow.move(1000, 0)"
   ]
  },
  {
   "cell_type": "code",
   "execution_count": null,
   "metadata": {},
   "outputs": [],
   "source": [
    "# 获取屏幕参数，将窗口移动到指定位置\n",
    "centerpointer = (\n",
    "    QDesktopWidget().availableGeometry().center()\n",
    ")  # 返回一个pyqt5.qtcore.qpoint对象\n",
    "x = centerpointer.x()  # 从这个对象里面找到其蕴含的x值与y值\n",
    "y = centerpointer.y()\n",
    "# firstwindow.move(x, y)  # 需要注意的是这样子移动只能把窗的左上角移动到指定位置，但是不能把其中心移动到指定位置\n",
    "# firstwindow.move(x - 150, y - 150)  # 这样子才能将其移动到中心位置，但是这样子窗口的参数发生变化的时候就会让这个归中失效\n",
    "(\n",
    "    initial_x,\n",
    "    initial_y,\n",
    "    width,\n",
    "    height,\n",
    ") = firstwindow.frameGeometry().getRect()  # 原函数返回的是一个元组，指定原先的窗口的位置和宽高\n",
    "# 不知道这些类有什么意思的时候就要去人家的库文件慢慢的搜\n",
    "firstwindow.move(int(x - width / 2), int(y - height / 2))  # 要去取整数，不然的话会出现类型定义的问题"
   ]
  },
  {
   "cell_type": "code",
   "execution_count": null,
   "metadata": {},
   "outputs": [],
   "source": [
    "# 展示窗口\n",
    "firstwindow.show()\n",
    "\n",
    "# 保持当前窗口刷新与挂起\n",
    "app.exec_()\n",
    "pass"
   ]
  },
  {
   "cell_type": "code",
   "execution_count": null,
   "metadata": {},
   "outputs": [],
   "source": [
    "# 自定义icon\n",
    "import sys\n",
    "from PyQt5.QtGui import QIcon\n",
    "from PyQt5.QtWidgets import QApplication, QWidget\n",
    "\n",
    "app = QApplication(sys.argv)\n",
    "# 创建一个QWidget组件\n",
    "windowwithicon = QWidget()\n",
    "# 设置窗口标题\n",
    "windowwithicon.setWindowTitle(\"早上好啊\")\n",
    "# 设置窗口图标\n",
    "windowwithicon.setWindowIcon(QIcon(\"huaji.jpg\"))\n",
    "# 展示窗口\n",
    "windowwithicon.show()\n",
    "app.exec()"
   ]
  }
 ],
 "metadata": {
  "kernelspec": {
   "display_name": "Python 3",
   "language": "python",
   "name": "python3"
  },
  "language_info": {
   "codemirror_mode": {
    "name": "ipython",
    "version": 3
   },
   "file_extension": ".py",
   "mimetype": "text/x-python",
   "name": "python",
   "nbconvert_exporter": "python",
   "pygments_lexer": "ipython3",
   "version": "3.11.5"
  }
 },
 "nbformat": 4,
 "nbformat_minor": 2
}
